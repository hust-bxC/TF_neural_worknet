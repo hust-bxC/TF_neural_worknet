{
 "cells": [
  {
   "cell_type": "markdown",
   "metadata": {},
   "source": [
    "INF 510, Lab #10\n",
    "---------------\n",
    "\n",
    "Thursday, April 4, 2019 (4:30 - 6:20pm)\n",
    "\n",
    "### Lab rules\n",
    "\n",
    "1.  Please read the instructions and problem prompts **carefully**.  Be sure to solve the problem the way it is asked (i.e. are you supposed to define a function?  Catch exceptions?  Use a particular construct?)  Solutions that \"work\", but are not composed according to the directions will not receive [full] credit\n",
    "\n",
    "2.  This lab is to be done *individually*. You may talk to your fellow classmates about general issues (*\"Remind me again: What's the difference between a parameter and an argument?\"*) but not about the specifics of how to do these exercises.\n",
    "\n",
    "3.  Along a similar vein, you can ask the TA for help, but ask questions about **concepts**.  (i.e. *\"I donâ€™t understand how the else block works\"*, not \"*my program isnâ€™t doing what I want\"*).  The TA is there to help, but not to do your work for you.\n",
    "\n",
    "4.  You are welcome to use the class resources and the Internet. But try to google for *concepts*, not your specific tasks.  The goal for you to begin to start thinking algorithmically, and hopefully memorize a little syntax by osmosis. If you just blindly do the exercises, without actually *thinking* about them, the next time you see something related but slightly altered â€” like, say, on an exam â€” you wonâ€™t be able to solve the problem. So avoid brainlessly cutting and pasting code snippets.\n",
    "\n",
    "5.  Play with variations. Solve one of the problems, and then copy the code to a new cell and play around with it. Experiment! Break stuff! Doing this is **the single most important thing** when learning a programming language.\n",
    "\n",
    "6.  When you have finished all the exercises, let the TA know, and he will check your work.  Presuming youâ€™ve done things correctly, youâ€™re free to go.\n",
    "\n",
    "7.  Have fun!\n",
    "\n",
    "\n",
    "\n"
   ]
  },
  {
   "cell_type": "markdown",
   "metadata": {},
   "source": [
    "In this lab, we're going to modify our code from Lab 9, and add database support to it.  We're going to basically obtain the same data, but in addition to creating Python objects (lists, dicts, etc.) we're going to store our data in a database.  Keep that in mind when you're doinh problem 1; you're going to want to store the data in a way that makes it straightforward to iterate across the data and add elements to database tables you create.  I would advise you to read through the entire lab prompt before starting! "
   ]
  },
  {
   "cell_type": "markdown",
   "metadata": {},
   "source": [
    "### Problem 1 (3 points)\n",
    "The first part of the lab is to re-write the scraper from week 9 (shown below) to use functions You will write [at least] 2 functions.  The first retrieves a URL for a specific year, based on the url below.  The URL for this assignment is as follows: https://en.wikipedia.org/wiki/2006_NBA_draft.  We'll want to make the year a parameter.  This function will retrieve the page (and thus should modify the URL), and return either the requests object for the page, or the soup object, whichever one you prefer.\n",
    "\n",
    "The next function should return a data structure (list, dict, object you create, etc.) that contains a record for each player on the requested page.  The information you want is:\n",
    "1.  **first name**\n",
    "2.  **last name**\n",
    "3.  **url**\n",
    "4.  **nationality**\n",
    "5.  **team**\n",
    "6.  **round**.\n"
   ]
  },
  {
   "cell_type": "code",
   "execution_count": 2,
   "metadata": {},
   "outputs": [],
   "source": [
    "import requests\n",
    "from bs4 import BeautifulSoup"
   ]
  },
  {
   "cell_type": "code",
   "execution_count": 8,
   "metadata": {},
   "outputs": [
    {
     "name": "stdout",
     "output_type": "stream",
     "text": [
      "Andrea Bargnani /wiki/Andrea_Bargnani\n",
      "LaMarcus Aldridge /wiki/LaMarcus_Aldridge\n",
      "Adam Morrison /wiki/Adam_Morrison\n",
      "Tyrus Thomas /wiki/Tyrus_Thomas\n",
      "Shelden Williams /wiki/Shelden_Williams\n",
      "Brandon Roy~ /wiki/Brandon_Roy\n",
      "Randy Foye /wiki/Randy_Foye\n",
      "Rudy Gay /wiki/Rudy_Gay\n",
      "Patrick O'Bryant /wiki/Patrick_O%27Bryant\n",
      "Mouhamed Sene /wiki/Mouhamed_Sene\n",
      "J. J. Redick /wiki/J._J._Redick\n",
      "Hilton Armstrong /wiki/Hilton_Armstrong\n",
      "Thabo Sefolosha /wiki/Thabo_Sefolosha\n",
      "Ronnie Brewer /wiki/Ronnie_Brewer\n",
      "Cedric Simmons /wiki/Cedric_Simmons\n",
      "Rodney Carney /wiki/Rodney_Carney\n",
      "Shawne Williams /wiki/Shawne_Williams\n",
      "Oleksiy Pecherov /wiki/Oleksiy_Pecherov\n",
      "Quincy Douby /wiki/Quincy_Douby\n",
      "Renaldo Balkman /wiki/Renaldo_Balkman\n",
      "Rajon Rondo /wiki/Rajon_Rondo\n",
      "Marcus Williams /wiki/Marcus_Williams_(basketball,_born_1985)\n",
      "Josh Boone /wiki/Josh_Boone_(basketball)\n",
      "Kyle Lowry /wiki/Kyle_Lowry\n",
      "Shannon Brown /wiki/Shannon_Brown\n",
      "Jordan Farmar /wiki/Jordan_Farmar\n",
      "Sergio Rodríguez /wiki/Sergio_Rodr%C3%ADguez\n",
      "Maurice Ager /wiki/Maurice_Ager\n",
      "Mardy Collins /wiki/Mardy_Collins\n",
      "Joel Freeland /wiki/Joel_Freeland\n",
      "James White /wiki/James_White_(basketball)\n",
      "Steve Novak /wiki/Steve_Novak\n",
      "Solomon Jones /wiki/Solomon_Jones_(basketball)\n",
      "Paul Davis /wiki/Paul_Davis_(basketball)\n",
      "P.J. Tucker /wiki/P.J._Tucker\n",
      "Craig Smith /wiki/Craig_Smith_(basketball,_born_1983)\n",
      "Bobby Jones /wiki/Bobby_Jones_(basketball,_born_1984)\n",
      "Kosta Perović /wiki/Kosta_Perovi%C4%87\n",
      "David Noel /wiki/David_Noel\n",
      "Denham Brown# /wiki/Denham_Brown\n",
      "James Augustine /wiki/James_Augustine\n",
      "Daniel Gibson /wiki/Daniel_Gibson\n",
      "Marcus Vinicius /wiki/Marcus_Vinicius_(basketball)\n",
      "Lior Eliyahu# /wiki/Lior_Eliyahu\n",
      "Alexander Johnson /wiki/Alexander_Johnson\n",
      "Dee Brown /wiki/Dee_Brown_(basketball,_born_1984)\n",
      "Paul Millsap+ /wiki/Paul_Millsap\n",
      "Vladimir Veremeenko# /wiki/Vladimir_Veremeenko\n",
      "Leon Powe /wiki/Leon_Powe\n",
      "Ryan Hollins /wiki/Ryan_Hollins\n",
      "Cheikh Samb /wiki/Cheikh_Samb\n",
      "Guillermo Diaz /wiki/Guillermo_Diaz_(basketball)\n",
      "Yotam Halperin# /wiki/Yotam_Halperin\n",
      "Hassan Adams /wiki/Hassan_Adams\n",
      "Ejike Ugboaja# /wiki/Ejike_Ugboaja\n",
      "Edin Bavčić# /wiki/Edin_Bav%C4%8Di%C4%87\n",
      "Loukas Mavrokefalidis# /wiki/Loukas_Mavrokefalidis\n",
      "J. R. Pinnock# /wiki/J._R._Pinnock\n",
      "Damir Markota /wiki/Damir_Markota\n",
      "Will Blalock /wiki/Will_Blalock\n"
     ]
    }
   ],
   "source": [
    "r = requests.get(\"https://en.wikipedia.org/wiki/2006_NBA_draft\")\n",
    "soup = BeautifulSoup(r.content, 'lxml')\n",
    "main_table = soup.findAll('table', {\"class\" : \"wikitable sortable sortable\"})[0]\n",
    "main_table\n",
    "main_body = main_table.find('tbody')\n",
    "for player in main_body.findAll('tr'):\n",
    "    if (len(player.findAll('td')) > 0):\n",
    "        player_name = player.findAll('td')[2].getText()\n",
    "        names = player_name.strip().replace(\"*\", \"\").split(' ')\n",
    "        firstname, lastname = names[0],  \" \".join(names[1:])\n",
    "        player_link = player.findAll('td')[2].find('a')\n",
    "        if (player_link != None):\n",
    "            player_link = player_link.attrs['href']\n",
    "        else:\n",
    "             # If the link IS empty, assign the empty string\n",
    "             player_link = ''\n",
    "        print(firstname, lastname, player_link)"
   ]
  },
  {
   "cell_type": "code",
   "execution_count": null,
   "metadata": {
    "collapsed": true
   },
   "outputs": [],
   "source": []
  },
  {
   "cell_type": "markdown",
   "metadata": {},
   "source": [
    "### Problem 2 (3 points)\n",
    "This problem is database and relation modeling.  We're going to store the information we've gleaned from our functions above in a database.  Think about this information, what it contains, what the types are, and what the relationships are between them.\n",
    "\n",
    "You have 6 entities.  Which are *attributes* of something, and which are their own attributes?  In other words, which entities deserve their own table, and which should be columns of some other table?  For the class example below, for example, the student name and student ID are attributes of a \"student\" entity, so we made a student table.  But the class is a completely differnet entity, so we store that in a different table.  Keep in mind the lecture on databases: we don't want to store repeated info.  If some entity can exist multiple times in different rows of some other entity, then it might need it's own table.\n",
    "\n",
    "Write down, in **English**, an explanation for the *database schema* you'd use.  Describe the keys, the columns, the \"point\" of the table, and the relationships between them.  For example, if you were storing students in a database, you might say the following:\n",
    ">I would have a table called *students* where I store students.  I'd have the student name (string), a student ID (integer) and a primary key ID (integer).  Then I'd have a *class* table, to store information for each class.  That would contain a class name (string), a class number (integer), and a primary key ID (integer).  Finally, I'd have a *schedule* table, where the rows would be what class each student would be in.  The columns would class ID (integer) which is a foriegn key, student ID (integer) which is also a foriegn key and a primary key ID (integer).  "
   ]
  },
  {
   "cell_type": "markdown",
   "metadata": {},
   "source": []
  },
  {
   "cell_type": "markdown",
   "metadata": {},
   "source": [
    "### Problem 3 (2 points)\n",
    "Implement the schema you outlined below in Python.  You should write this modularly.  Perhaps a function to create the database tables, and then functions for each table that can add elements to that specific table.  \n",
    "\n",
    "That way, you can iterate across your player data structure, adding records to the database tables as appropriate.  Keep in mind, for some of the entities, you'll have duplicates (i.e. many players can go to the same college).  You'll want to check if an entry exists before you add a new row in that case.  The following code may help.\n",
    "\n",
    "~~~~~~~~~~~~\n",
    "cursor.execute('SELECT * FROM my_table WHERE (my_column=?)', ('value'))\n",
    "entry = cursor.fetchone()\n",
    "\n",
    "if entry is None:\n",
    "    cursor.execute('INSERT INTO my_table (my_column) VALUES (?)', ('my_value'))\n",
    "    print 'New entry added'\n",
    "else:\n",
    "    print 'Entry found'\n",
    "\n",
    "~~~~~~~~~~~~\n",
    "Iterate across your player structure to add *all* the information contained into the db schema you created above.  If either your data structures or the schema seem lacking at this point, change them to fit something that makes more sense!"
   ]
  },
  {
   "cell_type": "markdown",
   "metadata": {},
   "source": []
  },
  {
   "cell_type": "markdown",
   "metadata": {},
   "source": [
    "### Problem 4 (2 points)\n",
    "Answer the following questions via SQL queries to your database:\n",
    "1.  Which players in 2005 were from University of North Carolina\n",
    "2.  Which college did Chris Paul go to?  (HINT: You'll need to use a JOIN clause)\n",
    "3.  **EXTRA CREDIT (2 points)** What are the URLS for every player that went to North Carolina and was drafted by Charlotte?"
   ]
  },
  {
   "cell_type": "code",
   "execution_count": null,
   "metadata": {
    "collapsed": true
   },
   "outputs": [],
   "source": []
  },
  {
   "cell_type": "code",
   "execution_count": null,
   "metadata": {
    "collapsed": true
   },
   "outputs": [],
   "source": []
  },
  {
   "cell_type": "code",
   "execution_count": null,
   "metadata": {
    "collapsed": true
   },
   "outputs": [],
   "source": []
  },
  {
   "cell_type": "code",
   "execution_count": null,
   "metadata": {
    "collapsed": true
   },
   "outputs": [],
   "source": []
  }
 ],
 "metadata": {
  "kernelspec": {
   "display_name": "Python 3",
   "language": "python",
   "name": "python3"
  },
  "language_info": {
   "codemirror_mode": {
    "name": "ipython",
    "version": 3
   },
   "file_extension": ".py",
   "mimetype": "text/x-python",
   "name": "python",
   "nbconvert_exporter": "python",
   "pygments_lexer": "ipython3",
   "version": "3.7.1"
  }
 },
 "nbformat": 4,
 "nbformat_minor": 2
}
